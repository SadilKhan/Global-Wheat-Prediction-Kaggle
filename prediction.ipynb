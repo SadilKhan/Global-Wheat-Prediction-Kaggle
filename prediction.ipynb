{
 "cells": [
  {
   "cell_type": "code",
   "execution_count": 1,
   "metadata": {
    "_cell_guid": "b1076dfc-b9ad-4769-8c92-a6c4dae69d19",
    "_uuid": "8f2839f25d086af736a60e9eeb907d3b93b6e0e5",
    "execution": {
     "iopub.execute_input": "2020-11-03T10:23:54.117481Z",
     "iopub.status.busy": "2020-11-03T10:23:54.116736Z",
     "iopub.status.idle": "2020-11-03T10:23:57.914559Z",
     "shell.execute_reply": "2020-11-03T10:23:57.913322Z"
    },
    "papermill": {
     "duration": 3.814467,
     "end_time": "2020-11-03T10:23:57.914719",
     "exception": false,
     "start_time": "2020-11-03T10:23:54.100252",
     "status": "completed"
    },
    "tags": []
   },
   "outputs": [],
   "source": [
    "import os\n",
    "import cv2\n",
    "import re\n",
    "import random\n",
    "import numpy as np\n",
    "import pandas as pd\n",
    "# For Visualization\n",
    "import plotly.express as px\n",
    "import matplotlib.pyplot as plt\n",
    "import seaborn as sns\n",
    "import gc\n",
    "# For Image Augmentation\n",
    "import albumentations as A\n",
    "from PIL import Image,ImageDraw\n",
    "from ast import literal_eval\n",
    "\n",
    "# For parallel processing\n",
    "from joblib import Parallel,delayed\n",
    "\n",
    "# For Object Detection\n",
    "import torch\n",
    "import torchvision\n",
    "from torchvision import transforms\n",
    "from torch.utils.data import Dataset,DataLoader\n",
    "from sklearn.model_selection import train_test_split\n",
    "from torchvision.models.detection.faster_rcnn import FastRCNNPredictor\n",
    "from torchvision.models.detection import FasterRCNN\n",
    "from torchvision.models.detection.rpn import AnchorGenerator"
   ]
  },
  {
   "cell_type": "code",
   "execution_count": 2,
   "metadata": {
    "_cell_guid": "79c7e3d0-c299-4dcb-8224-4455121ee9b0",
    "_uuid": "d629ff2d2480ee46fbb7e2d37f6b5fab8052498a",
    "execution": {
     "iopub.execute_input": "2020-11-03T10:23:57.942701Z",
     "iopub.status.busy": "2020-11-03T10:23:57.941832Z",
     "iopub.status.idle": "2020-11-03T10:24:02.687247Z",
     "shell.execute_reply": "2020-11-03T10:24:02.686112Z"
    },
    "papermill": {
     "duration": 4.764896,
     "end_time": "2020-11-03T10:24:02.687373",
     "exception": false,
     "start_time": "2020-11-03T10:23:57.922477",
     "status": "completed"
    },
    "tags": []
   },
   "outputs": [
    {
     "name": "stderr",
     "output_type": "stream",
     "text": [
      "/opt/conda/lib/python3.7/site-packages/torch/serialization.py:657: SourceChangeWarning: source code of class 'torch.nn.modules.conv.Conv2d' has changed. you can retrieve the original source code by accessing the object's source attribute or set `torch.nn.Module.dump_patches = True` and use the patch tool to revert the changes.\n",
      "  warnings.warn(msg, SourceChangeWarning)\n"
     ]
    }
   ],
   "source": [
    "def load_model(filepath):\n",
    "    checkpoint = torch.load(filepath)\n",
    "    model = checkpoint['model']\n",
    "    model.load_state_dict(checkpoint['state_dict'])\n",
    "    for parameter in model.parameters():\n",
    "        parameter.requires_grad = False\n",
    "    \n",
    "    model.eval()\n",
    "    \n",
    "    return model\n",
    "\n",
    "# Loading Test File\n",
    "test=os.listdir('/kaggle/input/global-wheat-detection/test')\n",
    "\n",
    "# Loading Model\n",
    "model=load_model('../input/fasterrcnn-model-weights/fasterrcnn_resnet50_fpn.pth')\n",
    "\n",
    "# Image Transformation\n",
    "image_transforms=transforms.Compose([\n",
    "    transforms.ToTensor(),\n",
    "    transforms.Normalize([0.485,0.456,0.406],\n",
    "                            [0.229,0.224,0.225])\n",
    "])\n",
    "\n",
    "# Final Prediciton Funciton for merging data\n",
    "def format_prediction_string(boxes, scores):\n",
    "    pred_strings = []\n",
    "    for j in zip(scores, boxes):\n",
    "        s=j[0][0]\n",
    "        x=float(round(j[1][0]))\n",
    "        y=float(round(j[1][1]))\n",
    "        w=float(round(j[1][2]-j[1][0]))\n",
    "        h=float(round(j[1][3]-j[1][1]))\n",
    "        pred_strings.append(f\"{s}, {x}, {y}, {w}, {h}\")\n",
    "\n",
    "    return \" \".join(pred_strings)"
   ]
  },
  {
   "cell_type": "markdown",
   "metadata": {
    "papermill": {
     "duration": 0.007851,
     "end_time": "2020-11-03T10:24:02.704868",
     "exception": false,
     "start_time": "2020-11-03T10:24:02.697017",
     "status": "completed"
    },
    "tags": []
   },
   "source": [
    "# Prediction"
   ]
  },
  {
   "cell_type": "code",
   "execution_count": 3,
   "metadata": {
    "execution": {
     "iopub.execute_input": "2020-11-03T10:24:02.734756Z",
     "iopub.status.busy": "2020-11-03T10:24:02.734084Z",
     "iopub.status.idle": "2020-11-03T10:24:05.592513Z",
     "shell.execute_reply": "2020-11-03T10:24:05.591497Z"
    },
    "papermill": {
     "duration": 2.879872,
     "end_time": "2020-11-03T10:24:05.592629",
     "exception": false,
     "start_time": "2020-11-03T10:24:02.712757",
     "status": "completed"
    },
    "tags": []
   },
   "outputs": [
    {
     "name": "stderr",
     "output_type": "stream",
     "text": [
      "/opt/conda/lib/python3.7/site-packages/torch/nn/functional.py:2854: UserWarning: The default behavior for interpolate/upsample with float scale_factor will change in 1.6.0 to align with other frameworks/libraries, and use scale_factor directly, instead of relying on the computed output size. If you wish to keep the old behavior, please set recompute_scale_factor=True. See the documentation of nn.Upsample for details. \n",
      "  warnings.warn(\"The default behavior for interpolate/upsample with float scale_factor will change \"\n",
      "/opt/conda/conda-bld/pytorch_1591914880026/work/torch/csrc/utils/python_arg_parser.cpp:756: UserWarning: This overload of nonzero is deprecated:\n",
      "\tnonzero(Tensor input, *, Tensor out)\n",
      "Consider using one of the following signatures instead:\n",
      "\tnonzero(Tensor input, *, bool as_tuple)\n"
     ]
    }
   ],
   "source": [
    "model=model.to(torch.device('cuda'))\n",
    "threshold=0.5\n",
    "box=[]\n",
    "with torch.no_grad():\n",
    "    for img_name in test:\n",
    "        img_path=os.path.join(f'/kaggle/input/global-wheat-detection/test/{img_name}')\n",
    "        img=Image.open(img_path)\n",
    "\n",
    "        img=image_transforms(img)\n",
    "        img=img.unsqueeze(0)\n",
    "\n",
    "        img=img.to(torch.device('cuda'))\n",
    "\n",
    "        output=model(img)\n",
    "        \n",
    "        # Format Prediction\n",
    "        boxes=output[0]['boxes']\n",
    "        scores=output[0]['scores']\n",
    "        \n",
    "        boxes=boxes[scores>threshold]  # Valid Boxes\n",
    "        scores=scores[scores>threshold] # Valid Scores\n",
    "        \n",
    "        boxes=boxes.cpu().detach().tolist()\n",
    "        scores=scores.cpu().detach()\n",
    "        scores=scores.reshape(len(scores),1)\n",
    "        scores=scores.tolist()\n",
    "        \n",
    "        \n",
    "        boxes=format_prediction_string(boxes,scores)\n",
    "        box.append(boxes)\n",
    "        \n",
    "        \n",
    "        del img,img_path\n",
    "        gc.collect()\n",
    "\n",
    "prediction=pd.DataFrame({'image_id':test,'PredictionString':box})"
   ]
  },
  {
   "cell_type": "code",
   "execution_count": 4,
   "metadata": {
    "execution": {
     "iopub.execute_input": "2020-11-03T10:24:05.617896Z",
     "iopub.status.busy": "2020-11-03T10:24:05.617259Z",
     "iopub.status.idle": "2020-11-03T10:24:05.621159Z",
     "shell.execute_reply": "2020-11-03T10:24:05.620699Z"
    },
    "papermill": {
     "duration": 0.019755,
     "end_time": "2020-11-03T10:24:05.621264",
     "exception": false,
     "start_time": "2020-11-03T10:24:05.601509",
     "status": "completed"
    },
    "tags": []
   },
   "outputs": [],
   "source": [
    "prediction['image_id']=prediction['image_id'].apply(lambda x:x.split('.')[0])"
   ]
  },
  {
   "cell_type": "markdown",
   "metadata": {
    "papermill": {
     "duration": 0.008424,
     "end_time": "2020-11-03T10:24:05.638617",
     "exception": false,
     "start_time": "2020-11-03T10:24:05.630193",
     "status": "completed"
    },
    "tags": []
   },
   "source": [
    "# Submission"
   ]
  },
  {
   "cell_type": "code",
   "execution_count": 5,
   "metadata": {
    "execution": {
     "iopub.execute_input": "2020-11-03T10:24:05.660630Z",
     "iopub.status.busy": "2020-11-03T10:24:05.660029Z",
     "iopub.status.idle": "2020-11-03T10:24:05.664127Z",
     "shell.execute_reply": "2020-11-03T10:24:05.663662Z"
    },
    "papermill": {
     "duration": 0.017168,
     "end_time": "2020-11-03T10:24:05.664229",
     "exception": false,
     "start_time": "2020-11-03T10:24:05.647061",
     "status": "completed"
    },
    "tags": []
   },
   "outputs": [],
   "source": [
    "prediction['PredictionString']=prediction[\"PredictionString\"].apply(lambda x: ' '.join(x.split(',')))"
   ]
  },
  {
   "cell_type": "code",
   "execution_count": 6,
   "metadata": {
    "execution": {
     "iopub.execute_input": "2020-11-03T10:24:05.685063Z",
     "iopub.status.busy": "2020-11-03T10:24:05.684461Z",
     "iopub.status.idle": "2020-11-03T10:24:05.767278Z",
     "shell.execute_reply": "2020-11-03T10:24:05.766699Z"
    },
    "papermill": {
     "duration": 0.094619,
     "end_time": "2020-11-03T10:24:05.767386",
     "exception": false,
     "start_time": "2020-11-03T10:24:05.672767",
     "status": "completed"
    },
    "tags": []
   },
   "outputs": [],
   "source": [
    "prediction.to_csv('/kaggle/working/submission.csv',index=False)"
   ]
  },
  {
   "cell_type": "code",
   "execution_count": 7,
   "metadata": {
    "execution": {
     "iopub.execute_input": "2020-11-03T10:24:05.791903Z",
     "iopub.status.busy": "2020-11-03T10:24:05.790967Z",
     "iopub.status.idle": "2020-11-03T10:24:06.467251Z",
     "shell.execute_reply": "2020-11-03T10:24:06.466035Z"
    },
    "papermill": {
     "duration": 0.690893,
     "end_time": "2020-11-03T10:24:06.467362",
     "exception": false,
     "start_time": "2020-11-03T10:24:05.776469",
     "status": "completed"
    },
    "tags": []
   },
   "outputs": [
    {
     "name": "stdout",
     "output_type": "stream",
     "text": [
      "__notebook__.ipynb  submission.csv\r\n"
     ]
    }
   ],
   "source": [
    "!ls /kaggle/working"
   ]
  },
  {
   "cell_type": "code",
   "execution_count": null,
   "metadata": {
    "papermill": {
     "duration": 0.009112,
     "end_time": "2020-11-03T10:24:06.485929",
     "exception": false,
     "start_time": "2020-11-03T10:24:06.476817",
     "status": "completed"
    },
    "tags": []
   },
   "outputs": [],
   "source": []
  }
 ],
 "metadata": {
  "kernelspec": {
   "display_name": "Python 3",
   "language": "python",
   "name": "python3"
  },
  "language_info": {
   "codemirror_mode": {
    "name": "ipython",
    "version": 3
   },
   "file_extension": ".py",
   "mimetype": "text/x-python",
   "name": "python",
   "nbconvert_exporter": "python",
   "pygments_lexer": "ipython3",
   "version": "3.7.6"
  },
  "papermill": {
   "duration": 17.742427,
   "end_time": "2020-11-03T10:24:07.762441",
   "environment_variables": {},
   "exception": null,
   "input_path": "__notebook__.ipynb",
   "output_path": "__notebook__.ipynb",
   "parameters": {},
   "start_time": "2020-11-03T10:23:50.020014",
   "version": "2.1.0"
  }
 },
 "nbformat": 4,
 "nbformat_minor": 4
}
